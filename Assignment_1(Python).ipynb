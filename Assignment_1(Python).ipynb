{
  "nbformat": 4,
  "nbformat_minor": 0,
  "metadata": {
    "colab": {
      "provenance": []
    },
    "kernelspec": {
      "name": "python3",
      "display_name": "Python 3"
    },
    "language_info": {
      "name": "python"
    }
  },
  "cells": [
    {
      "cell_type": "code",
      "execution_count": null,
      "metadata": {
        "id": "6zExN2L1vtVc"
      },
      "outputs": [],
      "source": [
        "#Q1. Why do we call Python as a general purpose and high-level programming language?\n"
      ]
    },
    {
      "cell_type": "markdown",
      "source": [
        "--Python provides tools and libraries that cater to various needs. Its extensive standard library and third-party packages contribute to its general-purpose nature.\n",
        "--Python is designed to be versatile and applicable in a wide range of domains and applications like AI,software-development,web development and data science\n",
        "--Python is considered a high-level programming language because of its abstraction from machine-level details. This means that programmers can focus on solving problems at a more conceptual level, without having to worry about low-level details such as memory management or hardware-specific instructions. Python code is generally easier to read, write, and understand compared to low-level languages, making it accessible for a broader audience.\n",
        "--Python syntax is designed to be clear and readable. The language emphasizes code readability, and its indentation-based block structure enforces a clean and consistent style. This feature makes Python code more accessible to newcomers and enhances collaboration among developers."
      ],
      "metadata": {
        "id": "prB3peehwMs9"
      }
    },
    {
      "cell_type": "code",
      "source": [
        "#Q2. Why is Python called a dynamically typed language?"
      ],
      "metadata": {
        "id": "4M20SzkQwEeS"
      },
      "execution_count": null,
      "outputs": []
    },
    {
      "cell_type": "markdown",
      "source": [
        "--Python is considered a dynamically typed language because the data type of a variable is determined at runtime, not during compilation. In dynamically typed languages, we do not need to explicitly declare the data type of a variable when we define it. Instead, the interpreter assigns the data type dynamically based on the value assigned to the variable.\n",
        "--For ex: x=10"
      ],
      "metadata": {
        "id": "cwSBTv1CxQeh"
      }
    },
    {
      "cell_type": "code",
      "source": [
        "#Q3. List some pros and cons of Python programming language?"
      ],
      "metadata": {
        "id": "fL2npy10xvvq"
      },
      "execution_count": null,
      "outputs": []
    },
    {
      "cell_type": "markdown",
      "source": [
        "Pros:\n",
        "1)Readability and Simplicity: The use of indentation for block structures enhances code readability, making it easy to understand and write\n",
        "\n",
        "2)Versatility : Python is a general-purpose language and can be used for a wide variety of applications, including web development, data science, artificial intelligence, machine learning, automation, scientific computing, and more.\n",
        "\n",
        "3)Large Standard Library: Python comes with an extensive standard library that provides modules and packages for various tasks. This eliminates the need to write code from scratch for many common functionalities, saving development time.\n",
        "\n",
        "4)Dynamic Typing: Python's dynamic typing allows for flexibility and quicker development, as variables do not need explicit type declarations.\n",
        "\n",
        "5)Cross-Platform Compatibility: Python is a cross-platform language, meaning code written in Python can run on various operating systems without modification.\n",
        "\n",
        "Cons:\n",
        "1)Execution Speed: Python is an interpreted language, and its execution speed can be slower compared to compiled languages like C or C++. This can be a drawback for performance-critical applications.\n",
        "\n",
        "2)Design Restrictions: Python's design philosophy, while promoting simplicity and readability, may impose certain restrictions on more advanced language features found in other languages.\n",
        "\n",
        "3)Not Ideal for Memory-Intensive Tasks: Python may not be the best choice for memory-intensive tasks, as its memory management is not as efficient as some low-level languages.\n",
        "\n",
        "4)Less Static Typing: While dynamic typing provides flexibility, it may also lead to potential runtime errors that could have been caught at compile-time in statically typed languages.\n",
        "\n"
      ],
      "metadata": {
        "id": "_hoCG7Vdx0sa"
      }
    },
    {
      "cell_type": "code",
      "source": [
        "#Q4. In what all domains can we use Python?"
      ],
      "metadata": {
        "id": "1koew4FtTgIS"
      },
      "execution_count": 1,
      "outputs": []
    },
    {
      "cell_type": "markdown",
      "source": [
        "1)Python is used for both backend and frontend web development.\n",
        "\n",
        "2)Popular web frameworks like Django and Flask are built using Python.\n",
        "\n",
        "3)Python has become a dominant language in the field of data science.\n",
        "\n",
        "4)Libraries like pandas, numpy are extensively used in data analysis,machine learning, and deep learning.\n",
        "\n",
        "5)Python is excellent for automation of repetitive tasks and scripting.\n",
        "It is used in system administration, network programming, and various automation scripts.\n",
        "\n",
        "6)Python is used in game development, often for scripting and building game logic.\n",
        "\n",
        "7)Python is used in conjunction with various databases through database connectors."
      ],
      "metadata": {
        "id": "GGsWbkNoUFGe"
      }
    },
    {
      "cell_type": "code",
      "source": [
        "#Q5. What are variable and how can we declare them?"
      ],
      "metadata": {
        "id": "iuMkMBmTTr5g"
      },
      "execution_count": null,
      "outputs": []
    },
    {
      "cell_type": "markdown",
      "source": [
        "A variable is a named storage location that holds a value. It is a way to associate a name with a memory location where data can be stored and retrieved during the execution of a program. Variables play a crucial role in programming as they allow the manipulation and storage of data.\n",
        "\n",
        "We can declare them easily for example name = 'sheetal' --string variable\n",
        "x= 5 int variable\n",
        "\n",
        "Variables are case sensitive."
      ],
      "metadata": {
        "id": "PNW-AvkoU_Fr"
      }
    },
    {
      "cell_type": "code",
      "source": [
        "#Q6. How can we take an input from the user in Python?"
      ],
      "metadata": {
        "id": "SBkh6sGQWMWF"
      },
      "execution_count": null,
      "outputs": []
    },
    {
      "cell_type": "markdown",
      "source": [
        "\n",
        "In Python, you can take input from the user using the input() function. The input() function reads a line from the user and returns it as a string.\n",
        "For instance: a = int(input('enter num'))"
      ],
      "metadata": {
        "id": "W1Po6tt4WQvr"
      }
    },
    {
      "cell_type": "code",
      "source": [
        "#Q7. What is the default datatype of the value that has been taken as an input using input() function?"
      ],
      "metadata": {
        "id": "MVHVqtXzWkTi"
      },
      "execution_count": null,
      "outputs": []
    },
    {
      "cell_type": "markdown",
      "source": [
        "Default datatype will be string."
      ],
      "metadata": {
        "id": "G-FFU6cPWwaS"
      }
    },
    {
      "cell_type": "code",
      "source": [
        "#Q8. What is type casting?"
      ],
      "metadata": {
        "id": "SHd6xOtDW4qk"
      },
      "execution_count": null,
      "outputs": []
    },
    {
      "cell_type": "markdown",
      "source": [
        "Type casting, also known as type conversion, is the process of converting a variable from one data type to another. In programming, it's common to need to convert data between different types, especially when performing operations or working with functions that expect a specific type of data.\n",
        "\n",
        "For ex:\n",
        "a = 23\n",
        "b=str(a) converts it to string datatype"
      ],
      "metadata": {
        "id": "zcfxe8mdXXbg"
      }
    },
    {
      "cell_type": "code",
      "source": [
        "#Q9. Can we take more than one input from the user using single input() function? If yes, how? If no, why?"
      ],
      "metadata": {
        "id": "e-_XDGs0XkuZ"
      },
      "execution_count": null,
      "outputs": []
    },
    {
      "cell_type": "markdown",
      "source": [
        "Yes, we can take more than one input from the user using a single input() function in Python. To achieve this, we can use the split() method to separate the input into multiple values. The split() method splits a string into a list of substrings based on a specified delimiter, and by default, it splits the string based on spaces."
      ],
      "metadata": {
        "id": "miqoBjvvYQAU"
      }
    },
    {
      "cell_type": "code",
      "source": [
        "#Q10. What are keywords?"
      ],
      "metadata": {
        "id": "ssKsUQoUYysy"
      },
      "execution_count": null,
      "outputs": []
    },
    {
      "cell_type": "markdown",
      "source": [
        "Keywords in programming are reserved words , These words cannot be used as identifiers (names for variables, functions, classes, etc.)"
      ],
      "metadata": {
        "id": "fKn4Y5vRY3Ml"
      }
    },
    {
      "cell_type": "code",
      "source": [
        "#Q11. Can we use keywords as a variable? Support your answer with reason."
      ],
      "metadata": {
        "id": "VQambrVsZ8xX"
      },
      "execution_count": null,
      "outputs": []
    },
    {
      "cell_type": "markdown",
      "source": [
        "\n",
        "No, we cannot use keywords as variable names in programming languages. Keywords are reserved for specific purposes and have predefined meanings in the language's syntax. Using a keyword as a variable name would lead to ambiguity and confusion, and it is not allowed by the language's rules."
      ],
      "metadata": {
        "id": "onEyFFsYaCex"
      }
    },
    {
      "cell_type": "code",
      "source": [
        "#Q12. What is indentation? What's the use of indentaion in Python?"
      ],
      "metadata": {
        "id": "AajcJSEtaUwM"
      },
      "execution_count": null,
      "outputs": []
    },
    {
      "cell_type": "markdown",
      "source": [
        "\n",
        "Indentation in Python refers to the whitespace (usually spaces or tabs) at the beginning of a line of code. Unlike many other programming languages that use braces {} or other symbols to indicate blocks of code,\n",
        "\n",
        "-Python uses indentation to define the structure and scope of code blocks.\n",
        "\n",
        "-Block Structure: Indentation is used to define the block structure of code, such as loops, conditionals, functions, and classes. Code that is indented at the same level is considered part of the same block.\n",
        "\n",
        "-Enforcement of Syntax: Incorrect indentation leads to syntax errors in Python. Consistent and correct indentation is crucial for the interpreter to understand the structure of the code correctly."
      ],
      "metadata": {
        "id": "BXS22dbOa1wJ"
      }
    },
    {
      "cell_type": "code",
      "source": [
        "#Q13. How can we throw some output in Python?"
      ],
      "metadata": {
        "id": "3dAcRo-vdPqk"
      },
      "execution_count": null,
      "outputs": []
    },
    {
      "cell_type": "markdown",
      "source": [
        "In Python, you can generate output using the print() function. The print() function is a built-in function that displays text or values on the console.\n",
        "\n",
        "For ex:print(\"hello world\") this will print hello world on consloe"
      ],
      "metadata": {
        "id": "yGHW4Pm1dVfH"
      }
    },
    {
      "cell_type": "code",
      "source": [
        "#Q14. What are operators in Python?"
      ],
      "metadata": {
        "id": "LSXxrds6dkXI"
      },
      "execution_count": null,
      "outputs": []
    },
    {
      "cell_type": "markdown",
      "source": [
        "\n",
        "In Python, operators are special symbols or keywords that perform operations on one or more operands. Operators can be used for arithmetic operations, comparisons, logical operations, assignments, and more."
      ],
      "metadata": {
        "id": "ixlPA4Eydpcp"
      }
    },
    {
      "cell_type": "code",
      "source": [
        "#Q15. What is difference between / and // operators?"
      ],
      "metadata": {
        "id": "nuPC7OZOgaGG"
      },
      "execution_count": null,
      "outputs": []
    },
    {
      "cell_type": "markdown",
      "source": [
        "\n",
        "In Python, the / and // operators are both used for division, but they behave differently, especially when it comes to the result type and precision.\n",
        "\n",
        "-The / operator performs regular division and returns a floating-point result.\n",
        "\n",
        "-The // operator performs floor division, which returns the largest integer less than or equal to the division result.\n",
        "It truncates any fractional part of the result and returns the integer portion."
      ],
      "metadata": {
        "id": "xlGdyNz_gezt"
      }
    },
    {
      "cell_type": "code",
      "source": [
        "#Q16. Write a code that gives following as an output.\n",
        "#```\n",
        "#iNeuroniNeuroniNeuroniNeuron\n",
        "#```"
      ],
      "metadata": {
        "id": "KhVgj_qQg6NO"
      },
      "execution_count": null,
      "outputs": []
    },
    {
      "cell_type": "markdown",
      "source": [
        "output = \"iNeuro\"\n",
        "repeated_output = output * 4\n",
        "print(repeated_output)\n"
      ],
      "metadata": {
        "id": "OOK2BNu-hGva"
      }
    },
    {
      "cell_type": "code",
      "source": [
        "#Q17. Write a code to take a number as an input from the user and check if the number is odd or even."
      ],
      "metadata": {
        "id": "Dn8K6hWyhOPk"
      },
      "execution_count": 2,
      "outputs": []
    },
    {
      "cell_type": "code",
      "source": [
        "user_input = input(\"Enter a number: \")\n",
        "number = int(user_input)\n",
        "if number % 2 == 0:\n",
        "    print(f\"{number} is an even number.\")\n",
        "else:\n",
        "    print(f\"{number} is an odd number.\")\n"
      ],
      "metadata": {
        "colab": {
          "base_uri": "https://localhost:8080/"
        },
        "id": "UyeZS-vMhrT8",
        "outputId": "b967a8f1-384d-4e7d-a388-a53eb27e4daa"
      },
      "execution_count": 3,
      "outputs": [
        {
          "output_type": "stream",
          "name": "stdout",
          "text": [
            "Enter a number: 24\n",
            "24 is an even number.\n"
          ]
        }
      ]
    },
    {
      "cell_type": "code",
      "source": [
        "#Q18. What are boolean operator?"
      ],
      "metadata": {
        "id": "GNBbpQ04hwsa"
      },
      "execution_count": null,
      "outputs": []
    },
    {
      "cell_type": "markdown",
      "source": [
        "\n",
        "Boolean operators are logical operators that operate on Boolean values (True or False) and produce Boolean results. In Python, there are three primary Boolean operators: and, or, and not. These operators are used to perform logical operations and make decisions based on the truth values of expressions.\n",
        "\n",
        "-and == Returns True if both operands are True.\n",
        "        Returns False if at least one operand is False.\n",
        "\n",
        "-or == Returns True if at least one operand is True.\n",
        "       Returns False if both operands are False.\n",
        "\n",
        "-not == Returns True if the operand is False.\n",
        "        Returns False if the operand is True."
      ],
      "metadata": {
        "id": "iUMvu8_0h4HB"
      }
    },
    {
      "cell_type": "code",
      "source": [
        "#Q19. What will the output of the following?\n",
        "#```\n",
        "#1 or 0\n",
        "#0 and 0\n",
        "#True and False and True\n",
        "#1 or 0 or 0\n",
        "#```"
      ],
      "metadata": {
        "id": "47J7t8pbiq3P"
      },
      "execution_count": 4,
      "outputs": []
    },
    {
      "cell_type": "code",
      "source": [
        "1 or 0"
      ],
      "metadata": {
        "colab": {
          "base_uri": "https://localhost:8080/"
        },
        "id": "O_piu0ZFjMuI",
        "outputId": "c5e82094-65b7-4c4e-a350-60e019efcb0a"
      },
      "execution_count": 5,
      "outputs": [
        {
          "output_type": "execute_result",
          "data": {
            "text/plain": [
              "1"
            ]
          },
          "metadata": {},
          "execution_count": 5
        }
      ]
    },
    {
      "cell_type": "code",
      "source": [
        "0 and 0"
      ],
      "metadata": {
        "colab": {
          "base_uri": "https://localhost:8080/"
        },
        "id": "HZA9XU_ujOO_",
        "outputId": "ceaaf88c-b71d-4108-a7b9-0bec4142d886"
      },
      "execution_count": 6,
      "outputs": [
        {
          "output_type": "execute_result",
          "data": {
            "text/plain": [
              "0"
            ]
          },
          "metadata": {},
          "execution_count": 6
        }
      ]
    },
    {
      "cell_type": "code",
      "source": [
        "True and False and True"
      ],
      "metadata": {
        "colab": {
          "base_uri": "https://localhost:8080/"
        },
        "id": "A0hdUa4CjQls",
        "outputId": "2caf31a2-a68b-4c89-cbaf-31abc90d5ca6"
      },
      "execution_count": 7,
      "outputs": [
        {
          "output_type": "execute_result",
          "data": {
            "text/plain": [
              "False"
            ]
          },
          "metadata": {},
          "execution_count": 7
        }
      ]
    },
    {
      "cell_type": "code",
      "source": [
        "1 or 0 or 0"
      ],
      "metadata": {
        "colab": {
          "base_uri": "https://localhost:8080/"
        },
        "id": "fQX6xh1wjUHi",
        "outputId": "f51454bc-973b-4cc2-90a8-271b8d329eb2"
      },
      "execution_count": 8,
      "outputs": [
        {
          "output_type": "execute_result",
          "data": {
            "text/plain": [
              "1"
            ]
          },
          "metadata": {},
          "execution_count": 8
        }
      ]
    },
    {
      "cell_type": "code",
      "source": [
        "#Q20. What are conditional statements in Python?"
      ],
      "metadata": {
        "id": "qTus-HYJjX5r"
      },
      "execution_count": null,
      "outputs": []
    },
    {
      "cell_type": "markdown",
      "source": [
        "Conditional statements in Python are used to control the flow of a program based on certain conditions. These statements allow you to make decisions and execute different blocks of code depending on whether a given condition is true or false."
      ],
      "metadata": {
        "id": "E5BHAqbVjdq9"
      }
    },
    {
      "cell_type": "code",
      "source": [
        "#Q21. What is use of 'if', 'elif' and 'else' keywords?"
      ],
      "metadata": {
        "id": "wy_Yll7YjxME"
      },
      "execution_count": null,
      "outputs": []
    },
    {
      "cell_type": "markdown",
      "source": [
        "-if == The if keyword is used to start a conditional statement.\n",
        "It is followed by a condition that is evaluated to either True or False.\n",
        "If the condition is True, the indented block of code following the if statement is executed.\n",
        "\n",
        "-elif == The elif keyword is used to introduce additional conditions to check if the initial if condition is False.\n",
        "It allows you to test multiple conditions in sequence.\n",
        "If the condition after elif is True, the corresponding block of code is executed, and the subsequent elif and else blocks are skipped.\n",
        "\n",
        "-else == The else keyword is used to define a block of code that is executed when none of the preceding if or elif conditions is True.\n",
        "It is optional, and you can omit it if you don't need to handle the case when all previous conditions are False."
      ],
      "metadata": {
        "id": "WM7WJY0yj2yn"
      }
    },
    {
      "cell_type": "code",
      "source": [
        "#Q22. Write a code to take the age of person as an input and if age >= 18 display \"I can vote\". If age is < 18 display \"I can't vote\".\n"
      ],
      "metadata": {
        "id": "Y_pHWo-1kPV5"
      },
      "execution_count": 9,
      "outputs": []
    },
    {
      "cell_type": "code",
      "source": [
        "age = int(input(\"enter your age :\", ))\n",
        "if age>=18:\n",
        "  print(\"I can vote\")\n",
        "else:\n",
        "  print(\"i cant vote\")"
      ],
      "metadata": {
        "colab": {
          "base_uri": "https://localhost:8080/"
        },
        "id": "cHeP5eZlkZ_S",
        "outputId": "c07d721c-c81e-4d1d-9b44-ea8f8c217256"
      },
      "execution_count": 10,
      "outputs": [
        {
          "output_type": "stream",
          "name": "stdout",
          "text": [
            "enter your age :21\n",
            "I can vote\n"
          ]
        }
      ]
    },
    {
      "cell_type": "code",
      "source": [
        "#Q23. Write a code that displays the sum of all the even numbers from the given list.\n",
        "#numbers = [12, 75, 150, 180, 145, 525, 50]"
      ],
      "metadata": {
        "id": "yljNbgh2krR8"
      },
      "execution_count": 11,
      "outputs": []
    },
    {
      "cell_type": "code",
      "source": [
        "numbers = [12, 75, 150, 180, 145, 525, 50]\n",
        "n2=sum(numbers)\n",
        "print(n2)"
      ],
      "metadata": {
        "colab": {
          "base_uri": "https://localhost:8080/"
        },
        "id": "e39flueek0vZ",
        "outputId": "475fa5a8-d4a8-47a8-f3b6-29feb7c65336"
      },
      "execution_count": 13,
      "outputs": [
        {
          "output_type": "stream",
          "name": "stdout",
          "text": [
            "1137\n"
          ]
        }
      ]
    },
    {
      "cell_type": "code",
      "source": [
        "#Q24. Write a code to take 3 numbers as an input from the user and display the greatest no as output.\n"
      ],
      "metadata": {
        "id": "H_JmOOauk5ph"
      },
      "execution_count": 14,
      "outputs": []
    },
    {
      "cell_type": "code",
      "source": [
        "num1 = float(input(\"Enter the first number: \"))\n",
        "num2 = float(input(\"Enter the second number: \"))\n",
        "num3 = float(input(\"Enter the third number: \"))\n",
        "\n",
        "if num1 >= num2 and num1 >= num3:\n",
        "    print(f\"The greatest number is: {num1}\")\n",
        "elif num2 >= num1 and num2 >= num3:\n",
        "    print(f\"The greatest number is: {num2}\")\n",
        "else:\n",
        "    print(f\"The greatest number is: {num3}\")\n"
      ],
      "metadata": {
        "colab": {
          "base_uri": "https://localhost:8080/"
        },
        "id": "srL03WYvlEGS",
        "outputId": "a0d191df-2bd7-4561-e0b6-d8039bdee4fb"
      },
      "execution_count": 15,
      "outputs": [
        {
          "output_type": "stream",
          "name": "stdout",
          "text": [
            "Enter the first number: 23\n",
            "Enter the second number: 45\n",
            "Enter the third number: 11\n",
            "The greatest number is: 45.0\n"
          ]
        }
      ]
    },
    {
      "cell_type": "code",
      "source": [
        "#Q25. Write a program to display only those numbers from a list that satisfy the following conditions\n",
        "#- The number must be divisible by five\n",
        "#- If the number is greater than 150, then skip it and move to the next number\n",
        "#- If the number is greater than 500, then stop the loop\n",
        "#numbers = [12, 75, 150, 180, 145, 525, 50]"
      ],
      "metadata": {
        "id": "i35Xr6sPlbHk"
      },
      "execution_count": 16,
      "outputs": []
    },
    {
      "cell_type": "code",
      "source": [
        "numbers = [12, 75, 150, 180, 145, 525, 50]\n",
        "for i in numbers:\n",
        "  if i%5==0:\n",
        "    if i>150:\n",
        "      continue\n",
        "    if i >500:\n",
        "      break\n",
        "    print(i)\n",
        ""
      ],
      "metadata": {
        "colab": {
          "base_uri": "https://localhost:8080/"
        },
        "id": "zh-8g3KDlpbV",
        "outputId": "c0263853-5665-441b-9d80-2d5811862d3a"
      },
      "execution_count": 17,
      "outputs": [
        {
          "output_type": "stream",
          "name": "stdout",
          "text": [
            "75\n",
            "150\n",
            "145\n",
            "50\n"
          ]
        }
      ]
    },
    {
      "cell_type": "code",
      "source": [],
      "metadata": {
        "id": "aX2A3t-RmZ_w"
      },
      "execution_count": null,
      "outputs": []
    }
  ]
}